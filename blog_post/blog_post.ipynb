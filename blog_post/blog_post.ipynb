{
 "cells": [
  {
   "cell_type": "raw",
   "id": "7957b482",
   "metadata": {},
   "source": [
    "Title: Policies for ML Models\n",
    "Date: 2022-09-21 22:00\n",
    "Category: Blog\\n\",\n",
    "Slug: policies-for-ml-models\n",
    "Authors: Brian Schmidt\n",
    "Summary: Machine learning models are being used to make ever more important decisions in the modern world. Because of the power of data modeling, ML models are able to learn the nuances of a domain and make accurate predictions even in situations where a human expert would not be able to. However, ML models are not omniscient and they should not run without oversight from their operators. To handle situations in which we don't want to have an ML model make predictions, we can create a policy that steps in before the prediction is returned to the user. A policy that is applied to an ML model is simply a rule that ensures that the model will never make predictions that are unsafe to use. For example, we can create a policy that make sure that a machine learning model that makes predictions about optimal airline ticket prices never makes predictions that cost the airline money. A good policy for an ML model is one that allows the model some leeway while also ensuring that the model’s predictions are safe to use. In this blog post, we'll write policies for ML models and deploy the policies alongside the model using the decorator pattern."
   ]
  },
  {
   "cell_type": "markdown",
   "id": "3b19f363",
   "metadata": {},
   "source": [
    "# Policies for ML Model Deployments\n",
    "\n",
    "In a [previous blog post](https://www.tekhnoal.com/ml-model-decorators.html) we introduced the decorator pattern for ML model deployments and then showed how to use the pattern to build extensions for a deployed model. For example, in [this blog post](https://www.tekhnoal.com/data-enrichment-for-ml-models.html) we added data enrichment to a deployed model. In [this blog post](https://www.tekhnoal.com/caching-for-ml-models.html) we added prediction caching to a deployed model. These extensions were added without having to modify the machine learning model prediction code at all, we were able to do it using the [decorator pattern](https://en.wikipedia.org/wiki/Decorator_pattern). In this blog post we’ll add policies to a deployed model in the same way.\n",
    "\n",
    "This blog post was written in a Jupyter notebook, some of the code and commands found in it reflects this."
   ]
  },
  {
   "cell_type": "markdown",
   "id": "52e40755",
   "metadata": {},
   "source": [
    "## Introduction\n",
    "\n",
    "Machine learning models are being used to make ever more important decisions in the modern world. Because of the power of data modeling, ML models are able to learn the nuances of a domain and make accurate predictions even in situations where a human expert would not be able to. However, ML models are not omniscient and they should not run without oversight from their operators. To handle situations in which we don't want to have an ML model make predictions, we can create a policy that steps in before the prediction is returned to the user. A policy that is applied to an ML model is simply a rule that ensures that the model will never make predictions that are unsafe to use. For example, we can create a policy that make sure that a machine learning model that makes predictions about optimal airline ticket prices never makes predictions that cost the airline money. A good policy for an ML model is one that allows the model some leeway while also ensuring that the model’s predictions are safe to use. In this blog post, we'll write policies for ML models and deploy the policies alongside the model using the decorator pattern.\n",
    "\n",
    "A policy is a system of guidelines that are used to make decisions. A software-defined policy is simply a policy that is written as code and can be executed. Most of the time, the policies followed by a software system are hard-coded into the system using whichever programming language the system is written in. This is often good enough for, but sometimes the policies are complex enough or change often enough to warrant writing them in a specialized language that is specifically designed for policies. By writing policies separately from the system that they will work in, we can decouple them from the system and make the system simpler to work in. Policies can also be written by domain experts and more easily integrated into the software system in this way.\n",
    " \n",
    "In this blog post we'll write policies for a deployed machine learning model, and we'll use the [Rego policy language](https://www.openpolicyagent.org/docs/latest/policy-language/). Policy decisions are made by querying policies written in Rego that are executed by the [Open Policy Agent](https://www.openpolicyagent.org/) which is a service that can be integrated into software systems. Other services can offload policy management and execution to the OPA service, accessing it through an RESTful API. The OPA service is specifically built for low-latency evaluations of policies. Rego and OPA are already used to review [Kubernetes manifests](https://www.openpolicyagent.org/docs/latest/kubernetes-introduction/) for best practices, to review infrastructure deployments by [checking Terraform plans](https://www.openpolicyagent.org/docs/latest/terraform/), and to check for authorization within the [Envoy service mesh](https://www.openpolicyagent.org/docs/latest/envoy-introduction/). \n",
    "\n",
    "In this blog post we’ll also build a decorator that applies policies to the input and output of a model by using the OPA service. By using the decorator pattern that we’ve shown in previous blog posts, we’ll be able to show how to integrate policies separately from the model itself. We'll show how to deploy the ML model inside of a RESTful service along with the decorator, all by modifying a simple configuration file."
   ]
  },
  {
   "cell_type": "markdown",
   "id": "2a7e8078",
   "metadata": {},
   "source": [
    "## Software Architecture\n",
    "\n",
    "The system we'll build will ultimately look like this:\n",
    "\n",
    "![Software Architecture](software_architecture_pfmlm.png)"
   ]
  },
  {
   "cell_type": "markdown",
   "id": "435f4120",
   "metadata": {},
   "source": [
    "## Installing a Model\n",
    "\n",
    "To make this blog post a little shorter we won't train a completely new model. Instead we'll install a model that [we've built in a previous blog post](https://www.tekhnoal.com/regression-model.html). The code for the model is in [this github repository](https://github.com/schmidtbri/regression-model).\n",
    "\n",
    "The model is called the \"Insurace Charges Model\" and predicts the medical insurance charges based on features of a customer. To install the model, we can use the pip command and point it at the github repo of the model."
   ]
  },
  {
   "cell_type": "code",
   "execution_count": 1,
   "id": "be67eb6b",
   "metadata": {},
   "outputs": [],
   "source": [
    "from IPython.display import clear_output\n",
    "\n",
    "!pip install -e git+https://github.com/schmidtbri/regression-model#egg=insurance_charges_model\n",
    "\n",
    "clear_output()"
   ]
  },
  {
   "cell_type": "markdown",
   "id": "5b4a8301",
   "metadata": {},
   "source": [
    "To make a prediction with the model, we'll import the model's class."
   ]
  },
  {
   "cell_type": "code",
   "execution_count": 2,
   "id": "20203212",
   "metadata": {},
   "outputs": [],
   "source": [
    "from insurance_charges_model.prediction.model import InsuranceChargesModel"
   ]
  },
  {
   "cell_type": "markdown",
   "id": "167d23f4",
   "metadata": {},
   "source": [
    "Now we can instantiate the model using the class."
   ]
  },
  {
   "cell_type": "code",
   "execution_count": 3,
   "id": "9caffdbd",
   "metadata": {},
   "outputs": [],
   "source": [
    "model = InsuranceChargesModel()\n",
    "\n",
    "clear_output()"
   ]
  },
  {
   "cell_type": "markdown",
   "id": "35c4e3b8",
   "metadata": {},
   "source": [
    "The model object contains everything needed to make a prediction. When the object was instantiated, it loaded the necessary model parameters.\n",
    "\n",
    "The model object publishes some metadata about the model as attributes:"
   ]
  },
  {
   "cell_type": "code",
   "execution_count": 4,
   "id": "a9e733fe",
   "metadata": {},
   "outputs": [
    {
     "name": "stdout",
     "output_type": "stream",
     "text": [
      "insurance_charges_model\n",
      "Insurance Charges Model\n",
      "0.1.0\n",
      "Model to predict the insurance charges of a customer.\n"
     ]
    }
   ],
   "source": [
    "print(model.qualified_name)\n",
    "print(model.display_name)\n",
    "print(model.version)\n",
    "print(model.description)"
   ]
  },
  {
   "cell_type": "markdown",
   "id": "c6bf2403",
   "metadata": {},
   "source": [
    "To make a prediction, we need to use the model's input schema class. The input schema class is a [Pydantic](https://pydantic-docs.helpmanual.io/) class that defines a data structure that can be used by the model's predict() method to make a prediction. \n",
    "\n",
    "The input schema can be accessed directly from the model object like this:"
   ]
  },
  {
   "cell_type": "code",
   "execution_count": 5,
   "id": "c95b3b31",
   "metadata": {},
   "outputs": [
    {
     "data": {
      "text/plain": [
       "insurance_charges_model.prediction.schemas.InsuranceChargesModelInput"
      ]
     },
     "execution_count": 5,
     "metadata": {},
     "output_type": "execute_result"
    }
   ],
   "source": [
    "model.input_schema"
   ]
  },
  {
   "cell_type": "markdown",
   "id": "036d3809",
   "metadata": {},
   "source": [
    "We can view input schema of the model as a JSON schema document by calling the .schema() method on the Pydantic class."
   ]
  },
  {
   "cell_type": "code",
   "execution_count": 6,
   "id": "a348569e",
   "metadata": {},
   "outputs": [
    {
     "data": {
      "text/plain": [
       "{'title': 'InsuranceChargesModelInput',\n",
       " 'description': \"Schema for input of the model's predict method.\",\n",
       " 'type': 'object',\n",
       " 'properties': {'age': {'title': 'Age',\n",
       "   'description': 'Age of primary beneficiary in years.',\n",
       "   'minimum': 18,\n",
       "   'maximum': 65,\n",
       "   'type': 'integer'},\n",
       "  'sex': {'title': 'Sex',\n",
       "   'description': 'Gender of beneficiary.',\n",
       "   'allOf': [{'$ref': '#/definitions/SexEnum'}]},\n",
       "  'bmi': {'title': 'Body Mass Index',\n",
       "   'description': 'Body mass index of beneficiary.',\n",
       "   'minimum': 15.0,\n",
       "   'maximum': 50.0,\n",
       "   'type': 'number'},\n",
       "  'children': {'title': 'Children',\n",
       "   'description': 'Number of children covered by health insurance.',\n",
       "   'minimum': 0,\n",
       "   'maximum': 5,\n",
       "   'type': 'integer'},\n",
       "  'smoker': {'title': 'Smoker',\n",
       "   'description': 'Whether beneficiary is a smoker.',\n",
       "   'type': 'boolean'},\n",
       "  'region': {'title': 'Region',\n",
       "   'description': 'Region where beneficiary lives.',\n",
       "   'allOf': [{'$ref': '#/definitions/RegionEnum'}]}},\n",
       " 'definitions': {'SexEnum': {'title': 'SexEnum',\n",
       "   'description': \"Enumeration for the value of the 'sex' input of the model.\",\n",
       "   'enum': ['male', 'female'],\n",
       "   'type': 'string'},\n",
       "  'RegionEnum': {'title': 'RegionEnum',\n",
       "   'description': \"Enumeration for the value of the 'region' input of the model.\",\n",
       "   'enum': ['southwest', 'southeast', 'northwest', 'northeast'],\n",
       "   'type': 'string'}}}"
      ]
     },
     "execution_count": 6,
     "metadata": {},
     "output_type": "execute_result"
    }
   ],
   "source": [
    "model.input_schema.schema()"
   ]
  },
  {
   "cell_type": "markdown",
   "id": "5add6e81",
   "metadata": {},
   "source": [
    "The model's input schema is called InsuranceChargesModelInput. The model expects five fields to be provided in order to make a prediction. All of the fields have type information as well as the allowed values. For example, the input schema states that the minimum allowed value for \"bmi\" is 15 and the maximum allowed value is 50.\n",
    "\n",
    "To make a prediction, all we need to do is instantiate the input schema class and give it to the model object's predict() method:"
   ]
  },
  {
   "cell_type": "code",
   "execution_count": 7,
   "id": "a8f1638c",
   "metadata": {},
   "outputs": [
    {
     "data": {
      "text/plain": [
       "InsuranceChargesModelOutput(charges=8640.78)"
      ]
     },
     "execution_count": 7,
     "metadata": {},
     "output_type": "execute_result"
    }
   ],
   "source": [
    "from insurance_charges_model.prediction.schemas import SexEnum, RegionEnum\n",
    "\n",
    "model_input = model.input_schema(\n",
    "    age=42, \n",
    "    sex=SexEnum.female,\n",
    "    bmi=24.0,\n",
    "    children=2,\n",
    "    smoker=False,\n",
    "    region=RegionEnum.northwest)\n",
    "\n",
    "prediction = model.predict(model_input)\n",
    "\n",
    "prediction"
   ]
  },
  {
   "cell_type": "markdown",
   "id": "7aba2aae",
   "metadata": {},
   "source": [
    "The prediction is another Pydantic class, this one is of type InsuranceChargesModelOutput. The output contains a single field called \"charges\", which is the predicted amount of charges in dollars. The model predicts that the charges will be $8640.78. Notice that we needed to import two Enum classes in order to fill in the categorical fields with allowed values.\n",
    "\n",
    "\n",
    "The policies that we'll write need to interact with the model through these schemas, so it's important to review them."
   ]
  },
  {
   "cell_type": "markdown",
   "id": "a5a250f8",
   "metadata": {},
   "source": [
    "## Creating a Policy\n",
    "\n",
    "[Rego policies](https://www.openpolicyagent.org/docs/latest/policy-language/) are assertions on data, in this blog post that data is the ML model's input and output data structures. Using the Insurance Charges Model we installed above, we'll create a policy for this situation:\n",
    "\n",
    "\"Smokers over the age of 60 should not have a prediction made.\"\n",
    "\n",
    "This policy is completely made up, its an example of a situation in which we would not want to return a prediction from the model for reasons other than the model's capabilities. The prediction that the model makes would still be valid because the model is capable of prediting the insurance chages for a 62 year old smoker, but business requirements may prevent the prediction from being used. This is a good place to add a policy that will enforce this business requirement. The policy looks like this:\n",
    "\n",
    "```\n",
    "package insurance_charges_model\n",
    "\n",
    "customer_is_a_smoker_over_60 if {\n",
    "\tinput.model_input.smoker\n",
    "    input.model_input.age > 60\n",
    "}\n",
    "```\n",
    "\n",
    "The policy is defined in the \"insurance_charges_model\" package. The policy is using the model input fields \"smoker\" which is a boolean field, and \"age\" which is an integer. The value \"customer_is_a_smoker_over_60\" is set to \"true\" if the conditions in the body of the rule are true. This policy is very simple and it does not actually make a decision about what to do with the model's prediction, all it does is detect whether the customer is a smoker over the age of 60. To create a decision we'll add another rule:\n",
    "\n",
    "```\n",
    "allow := true if {\n",
    "\tnot customer_is_a_smoker_over_60\n",
    "} else := false {\n",
    "\tcustomer_is_a_smoker_over_60\n",
    "}\n",
    "```\n",
    "\n",
    "We've added a rule called \"allow\" to the policy. Very simply, the value for \"allow\" is set to true if the customer is not a smoker over the age of of 60, otherwise it is set to false. We'll use this rule to actually make a decision as to what to do with the prediction. It would also be nice to have a description as to why the decision was made, so we'll add one last rule to the insurance_charges_model policy package:\n",
    "\n",
    "```\n",
    "messages contains msg if {\n",
    "\tcustomer_is_a_smoker_over_60\n",
    "    msg:= \"Prediction cannot be made if customer is a smoker over the age of 60.\"\n",
    "}\n",
    "```\n",
    "\n",
    "The last rule creates a \"messages\" array with explanations for the rules. If the \"customer_is_a_smoker_over_60\" rule is true, the messages array will contain an explanation for that particular decision. The structure of this policy package is designed to be extendable, so extra clauses can be added to the \"allow\" rule and \"messages\" rule as needed.\n",
    "\n",
    "The policy file is called \"insurance_charges_model.rego\" and it is saved in the \"policies\" folder of the repository. "
   ]
  },
  {
   "cell_type": "markdown",
   "id": "1817689e",
   "metadata": {},
   "source": [
    "## Trying Out the Policy\n",
    "\n",
    "To show how the policy works, we'll start up the Open Policy Agent service in a Docker container."
   ]
  },
  {
   "cell_type": "code",
   "execution_count": 8,
   "id": "84a9e731",
   "metadata": {},
   "outputs": [
    {
     "name": "stdout",
     "output_type": "stream",
     "text": [
      "84f6c5264e3b1c06e5d20891932e4e682cfd45754fac52dfd0a76ee1574f1302\r\n"
     ]
    }
   ],
   "source": [
    "!docker run -d \\\n",
    "    -p 8181:8181 \\\n",
    "    --name opa \\\n",
    "    openpolicyagent/opa run --server"
   ]
  },
  {
   "cell_type": "markdown",
   "id": "0cf77130",
   "metadata": {},
   "source": [
    "Once the container is up and running, we'll install the [OPA python package](https://github.com/Turall/OPA-python-client) to make the integration a little easier. By using the package we won't need to make individual REST call to the service ourselves, we'll let the package handle that."
   ]
  },
  {
   "cell_type": "code",
   "execution_count": 9,
   "id": "0fa6dbab",
   "metadata": {},
   "outputs": [],
   "source": [
    "!pip install OPA-python-client\n",
    "\n",
    "clear_output()"
   ]
  },
  {
   "cell_type": "markdown",
   "id": "297260c2",
   "metadata": {},
   "source": [
    "To contact the OPA service running in the Docker image, we'll create a client object:"
   ]
  },
  {
   "cell_type": "code",
   "execution_count": 10,
   "id": "7844bf27",
   "metadata": {},
   "outputs": [
    {
     "data": {
      "text/plain": [
       "\"Yes I'm here :)\""
      ]
     },
     "execution_count": 10,
     "metadata": {},
     "output_type": "execute_result"
    }
   ],
   "source": [
    "from opa_client.opa import OpaClient\n",
    "\n",
    "client = OpaClient(host=\"localhost\", port=8181, version=\"v1\")\n",
    "\n",
    "client.check_connection()"
   ]
  },
  {
   "cell_type": "markdown",
   "id": "a3a13455",
   "metadata": {},
   "source": [
    "The check_connection() method on the client reached out to the OPA service and checked for connectivity.\n",
    "\n",
    "We can create policies in the OPA service by loading the policies from a file and sending it to the service."
   ]
  },
  {
   "cell_type": "code",
   "execution_count": 11,
   "id": "98c7d97e",
   "metadata": {},
   "outputs": [
    {
     "data": {
      "text/plain": [
       "True"
      ]
     },
     "execution_count": 11,
     "metadata": {},
     "output_type": "execute_result"
    }
   ],
   "source": [
    "client.update_opa_policy_fromfile(\"../policies/insurance_charges_model.rego\", \n",
    "                                  endpoint=\"insurance_charges_model\")"
   ]
  },
  {
   "cell_type": "markdown",
   "id": "5ef67702",
   "metadata": {},
   "source": [
    "The policy was created succesfully in the service, but just to make sure we can ask for a list of the policies:"
   ]
  },
  {
   "cell_type": "code",
   "execution_count": 12,
   "id": "27587c7c",
   "metadata": {},
   "outputs": [
    {
     "data": {
      "text/plain": [
       "['insurance_charges_model']"
      ]
     },
     "execution_count": 12,
     "metadata": {},
     "output_type": "execute_result"
    }
   ],
   "source": [
    "client.get_policies_list() "
   ]
  },
  {
   "cell_type": "markdown",
   "id": "cd58084d",
   "metadata": {},
   "source": [
    "Looks like the insurance_charges_model package is loaded, now we can try it out with some data. We'll create some data using the model's input and output schemas:"
   ]
  },
  {
   "cell_type": "code",
   "execution_count": 13,
   "id": "002d737d",
   "metadata": {},
   "outputs": [],
   "source": [
    "policy_input_data = {\n",
    "    \"model_qualified_name\": \"insurance_charges_model\",\n",
    "    \"model_version\": \"0.1.0\",\n",
    "    \"model_input\": {\n",
    "        \"age\": 62,\n",
    "        \"sex\": \"female\",\n",
    "        \"bmi\": 24.0,\n",
    "        \"children\": 2,\n",
    "        \"smoker\": True,\n",
    "        \"region\": \"northwest\"\n",
    "    },\n",
    "    \"model_output\": {\n",
    "        \"charges\": 12345.0\n",
    "    }\n",
    "}"
   ]
  },
  {
   "cell_type": "markdown",
   "id": "183a7711",
   "metadata": {},
   "source": [
    "We'll be sending the model's qualified name and version, along with the model input and model output.\n",
    "\n",
    "We can execute the policy against this data like this:"
   ]
  },
  {
   "cell_type": "code",
   "execution_count": 14,
   "id": "7acc4668",
   "metadata": {},
   "outputs": [
    {
     "data": {
      "text/plain": [
       "{'result': {'allow': False,\n",
       "  'customer_is_a_smoker_over_60': True,\n",
       "  'messages': ['Prediction cannot be made if customer is a smoker over the age of 60.']}}"
      ]
     },
     "execution_count": 14,
     "metadata": {},
     "output_type": "execute_result"
    }
   ],
   "source": [
    "result = client.check_policy_rule(input_data=policy_input_data,\n",
    "                                  package_path=\"insurance_charges_model\")\n",
    "\n",
    "result"
   ]
  },
  {
   "cell_type": "markdown",
   "id": "78a65d7f",
   "metadata": {},
   "source": [
    "The \"allow\" rule evaluated to False, the reason being that the customer is a smoker over the age of 60. Let's try it again:"
   ]
  },
  {
   "cell_type": "code",
   "execution_count": 15,
   "id": "f9c4a496",
   "metadata": {},
   "outputs": [
    {
     "data": {
      "text/plain": [
       "{'result': {'allow': True, 'messages': []}}"
      ]
     },
     "execution_count": 15,
     "metadata": {},
     "output_type": "execute_result"
    }
   ],
   "source": [
    "policy_input_data = {\n",
    "    \"model_qualified_name\": \"insurance_charges_model\",\n",
    "    \"model_version\": \"0.1.0\",\n",
    "    \"model_input\": {\n",
    "        \"age\": 45,\n",
    "        \"sex\": \"female\",\n",
    "        \"bmi\": 24.0,\n",
    "        \"children\": 2,\n",
    "        \"smoker\": True,\n",
    "        \"region\": \"northwest\"\n",
    "    },    \n",
    "    \"model_output\": {\n",
    "        \"charges\": 12345.0\n",
    "    }\n",
    "}\n",
    "\n",
    "result = client.check_policy_rule(input_data=policy_input_data,\n",
    "                                  package_path=\"insurance_charges_model\")\n",
    "\n",
    "result"
   ]
  },
  {
   "cell_type": "markdown",
   "id": "70392f6d",
   "metadata": {},
   "source": [
    "This time, the \"allow\" rule evaluated to true, because the age of the customer is below 60, however they are still a smoker. The rule works as expected because we wanted to disallow a prediction if the customer is a smoker AND also over the age of 60.\n",
    "\n",
    "In this section we showed how to execute the Rego policy using the Open Policy Agent. "
   ]
  },
  {
   "cell_type": "markdown",
   "id": "d504427c",
   "metadata": {},
   "source": [
    "## Testing the Policy\n",
    "\n",
    "Rego policies can be tested by creating other Rego policies that assert the the policy is outputting the correct decision by using fake data. A Rego test looks like this:\n",
    "\n",
    "```\n",
    "package insurance_charges_model\n",
    "import future.keywords\n",
    "\n",
    "test_customer_is_a_smoker_over_60 if {\n",
    "    customer_is_a_smoker_over_60 with input as {\n",
    "        \"model_input\": {\n",
    "            \"age\": 62,\n",
    "            \"sex\": \"female\",\n",
    "            \"bmi\": 24.0,\n",
    "            \"children\": 2,\n",
    "            \"smoker\": true,\n",
    "            \"region\": \"northwest\"\n",
    "        },\n",
    "        \"model_output\": {\n",
    "            \"charges\": 12345.0\n",
    "        }\n",
    "    }\n",
    "}\n",
    "```\n",
    "\n",
    "The unit test is named \"test_customer_is_a_smoker_over_60\" and it tests that the rule evaluates to \"true\" given the input. This unit test along with 9 others is found in the insurance_charges_model_test.rego file in the policies folder in the project repository.\n",
    "\n",
    "We'll run the test with this Docker command:"
   ]
  },
  {
   "cell_type": "code",
   "execution_count": 16,
   "id": "9c415763",
   "metadata": {},
   "outputs": [
    {
     "name": "stdout",
     "output_type": "stream",
     "text": [
      "PASS: 10/10\r\n"
     ]
    }
   ],
   "source": [
    "!docker run -it --rm \\\n",
    "    -v \"$(pwd)\"/../policies:/policies \\\n",
    "    openpolicyagent/opa:0.43.0 test ./policies"
   ]
  },
  {
   "cell_type": "markdown",
   "id": "2775ea23",
   "metadata": {},
   "source": [
    "The rego test command found all 10 tests and executed them. The tests are loaded by sharing the folder containing the policies with the Docker container as a volume. The \"opa test\" command then automatically found the insurance_charges_model_tests.rego file and executed all of the tests found inside. The tests all passed.\n",
    "\n",
    "One of the good things about building policies with code is the ability to test the policies to add quality control to the policy codebase."
   ]
  },
  {
   "cell_type": "markdown",
   "id": "92b5c1c8",
   "metadata": {},
   "source": [
    "## Creating the Policy Decorator\n",
    "\n",
    "In order to cleanly integrate a deployed ML model with the Open Policy agent, we'll create a decorator that handles the application of policies. The decorator will execute \"around\" the model's output_schema property and predict() method."
   ]
  },
  {
   "cell_type": "code",
   "execution_count": 17,
   "id": "ad1e5d5d",
   "metadata": {},
   "outputs": [],
   "source": [
    "from typing import List, Union\n",
    "from pydantic import BaseModel\n",
    "from ml_base.decorator import MLModelDecorator\n",
    "\n",
    "from opa_client.opa import OpaClient\n",
    "\n",
    "\n",
    "class PredictionNotAvailable(BaseModel):\n",
    "    \"\"\"Schema returned when a prediction is not available because of a policy decision.\"\"\"\n",
    "    messages: List[str] \n",
    "        \n",
    "\n",
    "class OPAPolicyDecorator(MLModelDecorator):\n",
    "    \"\"\"Decorator to do policy checks using the Open Policy Agent service.\n",
    "\n",
    "    Args:\n",
    "        host: Hostname of the OPA service.\n",
    "        port: Port of the OPA service.\n",
    "        policy_package: Name of the policy to apply to the model.\n",
    "\n",
    "    \"\"\"      \n",
    "\n",
    "    def __init__(self, host: str, port: int, policy_package: str) -> None:\n",
    "        super().__init__(host=host, port=port, policy_package=policy_package)\n",
    "        self.__dict__[\"_client\"] = OpaClient(host=host,\n",
    "                                             port=port,\n",
    "                                             version=\"v1\")\n",
    "        \n",
    "    @property\n",
    "    def output_schema(self) -> BaseModel:\n",
    "        \"\"\"Decorator method that modifies the model's output schema to accomodate the policy decision.\n",
    "        \n",
    "        Note:\n",
    "            This method will create a Union of the model's output schema and the PredictionNotAvailable\n",
    "            schema and return it.\n",
    "            \n",
    "        \"\"\"\n",
    "        class NewUnion(BaseModel):\n",
    "            __root__: Union[self._model.output_schema, PredictionNotAvailable]\n",
    "        NewUnion.__name__ = self._model.output_schema.__name__\n",
    "        \n",
    "        return NewUnion\n",
    "\n",
    "    def predict(self, data):\n",
    "        \"\"\"Decorate the model's predict() method, calling the OPA service with the model's input and output.\n",
    "        \n",
    "        Note:\n",
    "            If a prediction is allowed the OPAPolicyDecorator predict() method will return an\n",
    "            instance of the model's output schema. If a prediction is not allowed because of a policy \n",
    "            violation, the decorator will return an instance of PredictionNotAvailable.\n",
    "            \n",
    "        \"\"\"\n",
    "        # make a prediction with the model\n",
    "        prediction = self._model.predict(data=data)\n",
    "\n",
    "        # build up data structure to send to the OPA service\n",
    "        policy_check_data = {\n",
    "            \"model_qualified_name\": self._model.qualified_name,\n",
    "            \"model_version\": self._model.version,\n",
    "            \"model_input\": data.dict(),\n",
    "            \"model_output\": prediction.dict()\n",
    "        }\n",
    "\n",
    "        # call OPA service with model input and output \n",
    "        response = self.__dict__[\"_client\"].check_policy_rule(input_data=policy_check_data,\n",
    "                                                              package_path=self._configuration[\"policy_package\"])\n",
    "        \n",
    "        # if \"allow\" is True, then return the prediction\n",
    "        if response[\"result\"][\"allow\"]:\n",
    "            return prediction\n",
    "        # otherwise, return an instance of PredictionNotAvailable\n",
    "        else:\n",
    "            return PredictionNotAvailable(messages=response[\"result\"][\"messages\"])\n",
    "    \n",
    "    def __del__(self):\n",
    "        try:\n",
    "            if self.__dict__[\"_client\"] is not None:\n",
    "                del self.__dict__[\"_client\"]\n",
    "        except KeyError:\n",
    "            pass\n"
   ]
  },
  {
   "cell_type": "markdown",
   "id": "acb81ef6",
   "metadata": {},
   "source": [
    "The OPAPolicyDecorator class implements the decorator. The `__init__()` method is used to configure the decorator when it is instantiated. It has parameters for the hostname and port of the OPA service, and the policy package that we want to apply to the model.\n",
    "\n",
    "The decorator actually modifies the output schema of the model that it is decorating. The output schema becomes a Union of the model's output schema and a schema called PredictionNotAvailable. The decorator needs to add this Union because it needs to be able to inform the users of the model when the policy does not allow a prediction to be returned. The modification of the output schema happens transparently to the user of the model, all they need to do is be able to handle the model's output when the PredictionNotAvailable output is returned.\n",
    "\n",
    "The predict() method is the where the action happens. Every time we make a prediction, the decorator will pass the prediction input to the model instance and receive the prediction output from the model. The decorator then sends the model's input and output to the OPA service along with the name of the policy package that we want to apply. If the \"allow\" result comes back as True, then the prediction is returned to the calling code, if \"allow\" result is False then the decorator returns a PredictionNotAvailable instance. The \"messages\" array is returned inside of the PredictionNotAvailable instance if the policy does not allow the prediction."
   ]
  },
  {
   "cell_type": "markdown",
   "id": "add8cd48",
   "metadata": {},
   "source": [
    "## Decorating the Model\n",
    "\n",
    "To test out the decorator we’ll first instantiate the model object that we want to use with the decorator."
   ]
  },
  {
   "cell_type": "code",
   "execution_count": 18,
   "id": "80e904e8",
   "metadata": {},
   "outputs": [],
   "source": [
    "model = InsuranceChargesModel()"
   ]
  },
  {
   "cell_type": "markdown",
   "id": "cdd32fd0",
   "metadata": {},
   "source": [
    "Next, we’ll instantiate the decorator with the parameters."
   ]
  },
  {
   "cell_type": "code",
   "execution_count": 19,
   "id": "532eeb5d",
   "metadata": {},
   "outputs": [],
   "source": [
    "decorator = OPAPolicyDecorator(\n",
    "    host=\"localhost\", \n",
    "    port=8181,\n",
    "    policy_package=\"insurance_charges_model\"\n",
    ")"
   ]
  },
  {
   "cell_type": "markdown",
   "id": "40723117",
   "metadata": {},
   "source": [
    "We can add the model instance to the decorator after it’s been instantiated like this:"
   ]
  },
  {
   "cell_type": "code",
   "execution_count": 20,
   "id": "1c19e519",
   "metadata": {},
   "outputs": [],
   "source": [
    "decorated_model = decorator.set_model(model)"
   ]
  },
  {
   "cell_type": "markdown",
   "id": "00548429",
   "metadata": {},
   "source": [
    "We can see the decorator and the model objects by printing the reference to the decorator:"
   ]
  },
  {
   "cell_type": "code",
   "execution_count": 21,
   "id": "45ffe522",
   "metadata": {},
   "outputs": [
    {
     "data": {
      "text/plain": [
       "OPAPolicyDecorator(InsuranceChargesModel)"
      ]
     },
     "execution_count": 21,
     "metadata": {},
     "output_type": "execute_result"
    }
   ],
   "source": [
    "decorated_model"
   ]
  },
  {
   "cell_type": "markdown",
   "id": "c4fbc2c9",
   "metadata": {},
   "source": [
    "The decorator object is printing out it's own type along with the type of the model that it is decorating.\n",
    "\n",
    "The JSON Schema of the model output schema also reflects the Union that was created by the decorator:"
   ]
  },
  {
   "cell_type": "code",
   "execution_count": 22,
   "id": "a0a1bcfa",
   "metadata": {},
   "outputs": [
    {
     "data": {
      "text/plain": [
       "{'title': 'InsuranceChargesModelOutput',\n",
       " 'anyOf': [{'$ref': '#/definitions/insurance_charges_model__prediction__schemas__InsuranceChargesModelOutput'},\n",
       "  {'$ref': '#/definitions/PredictionNotAvailable'}],\n",
       " 'definitions': {'insurance_charges_model__prediction__schemas__InsuranceChargesModelOutput': {'title': 'InsuranceChargesModelOutput',\n",
       "   'description': \"Schema for output of the model's predict method.\",\n",
       "   'type': 'object',\n",
       "   'properties': {'charges': {'title': 'Charges',\n",
       "     'description': 'Individual medical costs billed by health insurance to customer in US dollars.',\n",
       "     'type': 'number'}}},\n",
       "  'PredictionNotAvailable': {'title': 'PredictionNotAvailable',\n",
       "   'description': 'Schema returned when a prediction is not available because of a policy decision.',\n",
       "   'type': 'object',\n",
       "   'properties': {'messages': {'title': 'Messages',\n",
       "     'type': 'array',\n",
       "     'items': {'type': 'string'}}},\n",
       "   'required': ['messages']}}}"
      ]
     },
     "execution_count": 22,
     "metadata": {},
     "output_type": "execute_result"
    }
   ],
   "source": [
    "decorated_model.output_schema.schema()"
   ]
  },
  {
   "cell_type": "markdown",
   "id": "3a335335",
   "metadata": {},
   "source": [
    "As we explained, the PredictionNotAvailable output is added by the OPAPolicyDecorator instance whenever the policy does not allow a prediction to be returned from the model. The Union is shown in the JSON Schema document using the \"anyOf\" field."
   ]
  },
  {
   "cell_type": "markdown",
   "id": "cbe4df00",
   "metadata": {},
   "source": [
    "## Trying out the Decorator\n",
    "\n",
    "Now that we have some policies in the OPA service and a decorated model, we can try to make predictions with the decorated model.\n",
    "\n",
    "To begin, we'll try a prediction that we know will succeed:"
   ]
  },
  {
   "cell_type": "code",
   "execution_count": 23,
   "id": "f28c1e4f",
   "metadata": {},
   "outputs": [
    {
     "data": {
      "text/plain": [
       "InsuranceChargesModelOutput(charges=8640.78)"
      ]
     },
     "execution_count": 23,
     "metadata": {},
     "output_type": "execute_result"
    }
   ],
   "source": [
    "from insurance_charges_model.prediction.schemas import InsuranceChargesModelInput\n",
    "\n",
    "model_input = InsuranceChargesModelInput(\n",
    "    age=42, \n",
    "    sex=SexEnum.female,\n",
    "    bmi=24.0,\n",
    "    children=2,\n",
    "    smoker=False,\n",
    "    region=RegionEnum.northwest)\n",
    "\n",
    "prediction = decorated_model.predict(model_input)\n",
    "\n",
    "prediction"
   ]
  },
  {
   "cell_type": "markdown",
   "id": "2881d530",
   "metadata": {},
   "source": [
    "Since the customer is not a smoker or over the age of 60, we got a prediction back from the model. Next, we'll try another prediction:"
   ]
  },
  {
   "cell_type": "code",
   "execution_count": 24,
   "id": "d878ed7f",
   "metadata": {},
   "outputs": [
    {
     "data": {
      "text/plain": [
       "PredictionNotAvailable(messages=['Prediction cannot be made if customer is a smoker over the age of 60.'])"
      ]
     },
     "execution_count": 24,
     "metadata": {},
     "output_type": "execute_result"
    }
   ],
   "source": [
    "model_input = InsuranceChargesModelInput(\n",
    "    age=62, \n",
    "    sex=SexEnum.female,\n",
    "    bmi=24.0,\n",
    "    children=2,\n",
    "    smoker=True,\n",
    "    region=RegionEnum.northwest)\n",
    "\n",
    "prediction = decorated_model.predict(model_input)\n",
    "\n",
    "prediction"
   ]
  },
  {
   "cell_type": "markdown",
   "id": "e0e9f844",
   "metadata": {},
   "source": [
    "The policy decorator stepped in when the OPA service returned a result with \"allow\" set to false. The decorator threw away the model's prediction and returned an instance of PredictionNotAvailable with the messages array that the policy running in the OPA service created."
   ]
  },
  {
   "cell_type": "markdown",
   "id": "80537aa9",
   "metadata": {},
   "source": [
    "## Deploying the Decorator and Model\n",
    "\n",
    "Now that we have a model and a decorator, we can combine them together in a service that is able to make predictions and also does policy checks. To do this, we won't need to write any extra code, we can leverage the [rest_model_service package](https://pypi.org/project/rest-model-service/) to provide the RESTful API for the service. You can learn more about the package in [this blog post](https://www.tekhnoal.com/rest-model-service.html).\n",
    "\n",
    "To install the package, execute this command:"
   ]
  },
  {
   "cell_type": "code",
   "execution_count": 25,
   "id": "da43cdd5",
   "metadata": {},
   "outputs": [],
   "source": [
    "!pip install rest_model_service\n",
    "\n",
    "clear_output()"
   ]
  },
  {
   "cell_type": "markdown",
   "id": "fb3312ea",
   "metadata": {},
   "source": [
    "To create a service for our model, all that is needed is that we add a YAML configuration file to the project. The configuration file looks like this:\n",
    "\n",
    "```yaml\n",
    "service_title: Insurance Charges Model Service\n",
    "models:\n",
    "  - qualified_name: insurance_charges_model\n",
    "    class_path: insurance_charges_model.prediction.model.InsuranceChargesModel\n",
    "    create_endpoint: true\n",
    "    decorators:\n",
    "      - class_path: policy_decorator.policy_decorator.OPAPolicyDecorator\n",
    "        configuration:\n",
    "          host: \"localhost\"\n",
    "          port: 8181\n",
    "          policy_package: insurance_charges_model\n",
    "```\n",
    "\n",
    "The service_title field is the name of the service as it will appear in the documentation. The models field is an array that contains the details of the models we would like to deploy in the service. The class_path field points at the MLModel class that implement's the model's prediction logic. The decorators field contains the details of the decorators that we want to attach to the model instance. In this case, we want to use the OPAPolicyDecorator decorator class with the configuration we've used for local testing.\n",
    "\n",
    "Using the configuration file, we're able to create an OpenAPI specification file for the model service by executing these commands:\n",
    "\n",
    "```bash\n",
    "export PYTHONPATH=./\n",
    "export REST_CONFIG=./configuration/local_rest_config.yaml\n",
    "generate_openapi --output_file=\"service_contract.yaml\"\n",
    "```\n",
    "\n",
    "The service_contract.yaml file is generated and contains the OpenAPI specification that was generated for the model service. The insurance_charges_model endpoint is the one we'll call to make predictions with the model. The model's input and output schemas were automatically extracted and added to the specification. If you inspect the contract, you'll find that the model's output schema was automatically modified by the decorator in the same way as it was done in the example above, the output schema is a Union of the model's original output schema and the PredictionNotAvailable type. The OpenAPI specification file generated can be found at the root of the repository in the file named service_contract.yaml\n",
    "\n",
    "To run the service locally, execute these commands:\n",
    "\n",
    "```bash\n",
    "uvicorn rest_model_service.main:app --reload\n",
    "```\n",
    "\n",
    "The service process starts up and can be accessed in a web browser at http://127.0.0.1:8000. The service renders the OpenAPI specification as a webpage that looks like this:\n",
    "\n",
    "![Service Documentation](service_documentation_pfmlm.png)\n",
    "\n",
    "By using the MLModel base class provided by the ml_base package and the REST service framework provided by the rest_model_service package we're able to quickly stand up a service to host the model. The decorator that we want to deploy can also be added to the model through configuration, including all of their parameters.\n",
    "\n",
    "We won't be testing the service right now, so we can stop the service process by hitting CTRL+C."
   ]
  },
  {
   "cell_type": "markdown",
   "id": "9fc1e8da",
   "metadata": {},
   "source": [
    "## Creating a Docker Image\n",
    "\n",
    "Now that we have a working model and model service, we'll need to deploy it somewhere. We'll start by deploying the service locally using Docker.\n",
    "\n",
    "Let's create a docker image and run it locally. The docker image is generated using instructions in the Dockerfile:\n",
    "\n",
    "```Dockerfile\n",
    "# syntax=docker/dockerfile:1\n",
    "FROM python:3.9-slim\n",
    "\n",
    "ARG BUILD_DATE\n",
    "\n",
    "LABEL org.opencontainers.image.title=\"Policies for ML Models\"\n",
    "LABEL org.opencontainers.image.description=\"Policies for machine learning models.\"\n",
    "LABEL org.opencontainers.image.created=$BUILD_DATE\n",
    "LABEL org.opencontainers.image.authors=\"6666331+schmidtbri@users.noreply.github.com\"\n",
    "LABEL org.opencontainers.image.source=\"https://github.com/schmidtbri/policies-for-ml-models\"\n",
    "LABEL org.opencontainers.image.version=\"0.1.0\"\n",
    "LABEL org.opencontainers.image.licenses=\"MIT License\"\n",
    "LABEL org.opencontainers.image.base.name=\"python:3.9-slim\"\n",
    "\n",
    "WORKDIR /service\n",
    "\n",
    "ARG USERNAME=service-user\n",
    "ARG USER_UID=10000\n",
    "ARG USER_GID=10000\n",
    "\n",
    "# install packages\n",
    "RUN apt-get update \\\n",
    "    && apt-get install --assume-yes --no-install-recommends sudo \\\n",
    "    && apt-get install --assume-yes --no-install-recommends git \\\n",
    "    && apt-get clean \\\n",
    "    && rm -rf /var/lib/apt/lists/*\n",
    "\n",
    "# create a user\n",
    "RUN groupadd --gid $USER_GID $USERNAME \\\n",
    "    && useradd --uid $USER_UID --gid $USER_GID -m $USERNAME \\\n",
    "    && echo $USERNAME ALL=\\(root\\) NOPASSWD:ALL > /etc/sudoers.d/$USERNAME \\\n",
    "    && chmod 0440 /etc/sudoers.d/$USERNAME\n",
    "\n",
    "# installing dependencies\n",
    "COPY ./service_requirements.txt ./service_requirements.txt\n",
    "RUN pip install -r service_requirements.txt\n",
    "\n",
    "# copying code, configuration, and license\n",
    "COPY ./configuration ./configuration\n",
    "COPY ./policy_decorator ./policy_decorator\n",
    "COPY ./LICENSE ./LICENSE\n",
    "\n",
    "CMD [\"uvicorn\", \"rest_model_service.main:app\", \"--host\", \"0.0.0.0\", \"--port\", \"8000\"]\n",
    "\n",
    "USER $USERNAME\n",
    "```\n",
    "\n",
    "The Dockerfile is used by this docker command to create a docker image:"
   ]
  },
  {
   "cell_type": "code",
   "execution_count": 26,
   "id": "4d029ec2",
   "metadata": {},
   "outputs": [],
   "source": [
    "!docker build -t insurance_charges_model_service:0.1.0 ../\n",
    "\n",
    "clear_output()"
   ]
  },
  {
   "cell_type": "markdown",
   "id": "dc10bea6",
   "metadata": {},
   "source": [
    "To make sure everything worked as expected, we'll look through the docker images in our system:"
   ]
  },
  {
   "cell_type": "code",
   "execution_count": 27,
   "id": "0d58790b",
   "metadata": {},
   "outputs": [
    {
     "name": "stdout",
     "output_type": "stream",
     "text": [
      "insurance_charges_model_service   0.1.0     4b2747668a67   18 seconds ago   1.37GB\r\n"
     ]
    }
   ],
   "source": [
    "!docker image ls | grep insurance_charges_model_service"
   ]
  },
  {
   "cell_type": "markdown",
   "id": "a2b1840f",
   "metadata": {},
   "source": [
    "The insurance_charges_model_service image is listed. Next, we'll start the image to see if everything is working as expected. However, we need to connect the docker containers to the same network first. Let's create a Docker network:"
   ]
  },
  {
   "cell_type": "code",
   "execution_count": 28,
   "id": "ab6c0388",
   "metadata": {},
   "outputs": [
    {
     "name": "stdout",
     "output_type": "stream",
     "text": [
      "8a7d2d05523d01dd0fc082adac84bda01a012d7e847dcd4ffcc35df1031e18ab\r\n"
     ]
    }
   ],
   "source": [
    "!docker network create local-network"
   ]
  },
  {
   "cell_type": "markdown",
   "id": "cabc956e",
   "metadata": {},
   "source": [
    "Next, we'll connect the running OPA Docker image to the network."
   ]
  },
  {
   "cell_type": "code",
   "execution_count": 29,
   "id": "0c2be894",
   "metadata": {},
   "outputs": [],
   "source": [
    "!docker network connect local-network opa"
   ]
  },
  {
   "cell_type": "markdown",
   "id": "38e7a79f",
   "metadata": {},
   "source": [
    "Now we can start the service docker image connected to the same network as the OPA container."
   ]
  },
  {
   "cell_type": "code",
   "execution_count": 30,
   "id": "4bb78b90",
   "metadata": {},
   "outputs": [
    {
     "name": "stdout",
     "output_type": "stream",
     "text": [
      "02dd79117cfe53949b30dea9e1aa8834bf2509e2cc707f42972eec955c3364ae\r\n"
     ]
    }
   ],
   "source": [
    "!docker run -d \\\n",
    "    -p 8000:8000 \\\n",
    "    --net local-network \\\n",
    "    -e REST_CONFIG=./configuration/docker_rest_config.yaml \\\n",
    "    --name insurance_charges_model_service \\\n",
    "    insurance_charges_model_service:0.1.0"
   ]
  },
  {
   "cell_type": "markdown",
   "id": "677de286",
   "metadata": {},
   "source": [
    "Notice that we're using the \"docker_rest_config.yaml\" configuration file that has a different hostname for the OPA service instance. The opa container is not accesible from localhost inside of the network so we needed to have the hostname \"opa\" in the configuration.\n",
    "\n",
    "To make sure the server process started up correctly, we'll look at the logs:"
   ]
  },
  {
   "cell_type": "code",
   "execution_count": 31,
   "id": "5f7f9ee9",
   "metadata": {},
   "outputs": [
    {
     "name": "stdout",
     "output_type": "stream",
     "text": [
      "/usr/local/lib/python3.9/site-packages/tpot/builtins/__init__.py:36: UserWarning: Warning: optional dependency `torch` is not available. - skipping import of NN models.\r\n",
      "  warnings.warn(\"Warning: optional dependency `torch` is not available. - skipping import of NN models.\")\r\n",
      "INFO:     Started server process [1]\r\n",
      "INFO:     Waiting for application startup.\r\n",
      "INFO:     Application startup complete.\r\n",
      "INFO:     Uvicorn running on http://0.0.0.0:8000 (Press CTRL+C to quit)\r\n"
     ]
    }
   ],
   "source": [
    "!docker logs insurance_charges_model_service"
   ]
  },
  {
   "cell_type": "markdown",
   "id": "6e4c344e",
   "metadata": {},
   "source": [
    "The service should be accessible on port 8000 of localhost, so we'll try to make a prediction using the curl command running inside of a container connected to the network:"
   ]
  },
  {
   "cell_type": "code",
   "execution_count": 32,
   "id": "65ccddc1",
   "metadata": {},
   "outputs": [
    {
     "name": "stdout",
     "output_type": "stream",
     "text": [
      "{\"charges\":8640.78}"
     ]
    }
   ],
   "source": [
    "!docker run -it --rm \\\n",
    "    --net local-network \\\n",
    "    curlimages/curl \\\n",
    "    curl -X 'POST' \\\n",
    "    'http://insurance_charges_model_service:8000/api/models/insurance_charges_model/prediction' \\\n",
    "    -H 'accept: application/json' \\\n",
    "    -H 'Content-Type: application/json' \\\n",
    "    -d \"{ \\\n",
    "        \\\"age\\\": 42, \\\n",
    "        \\\"sex\\\": \\\"female\\\", \\\n",
    "        \\\"bmi\\\": 24.0, \\\n",
    "        \\\"children\\\": 2, \\\n",
    "        \\\"smoker\\\": false, \\\n",
    "        \\\"region\\\": \\\"northwest\\\" \\\n",
    "    }\""
   ]
  },
  {
   "cell_type": "markdown",
   "id": "9c1f2f1f",
   "metadata": {},
   "source": [
    "The model predicted that the insurance charges will be $8640.78.\n",
    "\n",
    "We'll try a prediction that will fail the policy check as well:"
   ]
  },
  {
   "cell_type": "code",
   "execution_count": 33,
   "id": "1f53f4ec",
   "metadata": {},
   "outputs": [
    {
     "name": "stdout",
     "output_type": "stream",
     "text": [
      "{\"messages\":[\"Prediction cannot be made if customer is a smoker over the age of 60.\"]}"
     ]
    }
   ],
   "source": [
    "!docker run -it --rm \\\n",
    "    --net local-network \\\n",
    "    curlimages/curl \\\n",
    "    curl -X 'POST' \\\n",
    "    'http://insurance_charges_model_service:8000/api/models/insurance_charges_model/prediction' \\\n",
    "    -H 'accept: application/json' \\\n",
    "    -H 'Content-Type: application/json' \\\n",
    "    -d \"{ \\\n",
    "        \\\"age\\\": 62, \\\n",
    "        \\\"sex\\\": \\\"female\\\", \\\n",
    "        \\\"bmi\\\": 24.0, \\\n",
    "        \\\"children\\\": 2, \\\n",
    "        \\\"smoker\\\": true, \\\n",
    "        \\\"region\\\": \\\"northwest\\\" \\\n",
    "    }\""
   ]
  },
  {
   "cell_type": "markdown",
   "id": "59295f77",
   "metadata": {},
   "source": [
    "We're done with the local environment, so we'll shut down the OPA container, the model service container and the network we created for them."
   ]
  },
  {
   "cell_type": "code",
   "execution_count": 34,
   "id": "c5fea803",
   "metadata": {},
   "outputs": [
    {
     "name": "stdout",
     "output_type": "stream",
     "text": [
      "opa\n",
      "opa\n",
      "insurance_charges_model_service\n",
      "insurance_charges_model_service\n",
      "local-network\n"
     ]
    }
   ],
   "source": [
    "!docker kill opa\n",
    "!docker rm opa\n",
    "\n",
    "!docker kill insurance_charges_model_service\n",
    "!docker rm insurance_charges_model_service\n",
    "\n",
    "!docker network rm local-network"
   ]
  },
  {
   "cell_type": "markdown",
   "id": "0300ea31",
   "metadata": {},
   "source": [
    "## Deploying the Model\n",
    "\n",
    "To show the system in action, we’ll deploy the service and the Redis instance to a Kubernetes cluster. A local cluster can be easily started by using [minikube](https://minikube.sigs.k8s.io/docs/). Installation instructions can be found [here](https://minikube.sigs.k8s.io/docs/start/).\n",
    "\n",
    "To start the minikube cluster execute this command:"
   ]
  },
  {
   "cell_type": "code",
   "execution_count": 35,
   "id": "10ab6d2d",
   "metadata": {},
   "outputs": [
    {
     "name": "stdout",
     "output_type": "stream",
     "text": [
      "😄  minikube v1.26.1 on Darwin 12.5.1\n",
      "🎉  minikube 1.27.0 is available! Download it: https://github.com/kubernetes/minikube/releases/tag/v1.27.0\n",
      "💡  To disable this notice, run: 'minikube config set WantUpdateNotification false'\n",
      "\n",
      "✨  Using the virtualbox driver based on existing profile\n",
      "👍  Starting control plane node minikube in cluster minikube\n",
      "🔄  Restarting existing virtualbox VM for \"minikube\" ...\n",
      "🐳  Preparing Kubernetes v1.24.3 on Docker 20.10.17 ...\u001b[K\u001b[K\u001b[K\u001b[K\n",
      "    ▪ controller-manager.horizontal-pod-autoscaler-sync-period=5s\n",
      "🔎  Verifying Kubernetes components...\n",
      "    ▪ Using image k8s.gcr.io/metrics-server/metrics-server:v0.6.1\n",
      "    ▪ Using image kubernetesui/dashboard:v2.6.0\n",
      "    ▪ Using image gcr.io/k8s-minikube/storage-provisioner:v5\n",
      "    ▪ Using image kubernetesui/metrics-scraper:v1.0.8\n",
      "🌟  Enabled addons: storage-provisioner\n",
      "🏄  Done! kubectl is now configured to use \"minikube\" cluster and \"default\" namespace by default\n"
     ]
    }
   ],
   "source": [
    "!minikube start"
   ]
  },
  {
   "cell_type": "markdown",
   "id": "68e8068f",
   "metadata": {},
   "source": [
    "We'll use the [Kubernetes Dashboard](https://github.com/kubernetes/dashboard) to view details about the model service. We can start it up in the minikube cluster with this command:\n",
    "\n",
    "```bash\n",
    "minikube dashboard --url\n",
    "```\n",
    "\n",
    "The command starts up a proxy that must keep running in order to forward the traffic to the dashboard UI in the minikube cluster.\n",
    "\n",
    "Let's view all of the pods running in the minikube cluster to make sure we can connect."
   ]
  },
  {
   "cell_type": "code",
   "execution_count": 36,
   "id": "2487c784",
   "metadata": {},
   "outputs": [
    {
     "name": "stdout",
     "output_type": "stream",
     "text": [
      "NAMESPACE              NAME                                         READY   STATUS    RESTARTS       AGE\r\n",
      "kube-system            coredns-6d4b75cb6d-wrrwr                     1/1     Running   19 (23h ago)   43d\r\n",
      "kube-system            etcd-minikube                                1/1     Running   19 (23h ago)   43d\r\n",
      "kube-system            kube-apiserver-minikube                      1/1     Running   19 (23h ago)   43d\r\n",
      "kube-system            kube-controller-manager-minikube             1/1     Running   5 (23h ago)    20d\r\n",
      "kube-system            kube-proxy-5n4t9                             1/1     Running   18 (23h ago)   43d\r\n",
      "kube-system            kube-scheduler-minikube                      1/1     Running   17 (23h ago)   43d\r\n",
      "kube-system            metrics-server-8595bd7d4c-ptcsp              1/1     Running   15 (23h ago)   23d\r\n",
      "kube-system            storage-provisioner                          1/1     Running   29             43d\r\n",
      "kubernetes-dashboard   dashboard-metrics-scraper-78dbd9dbf5-xslpl   1/1     Running   11 (23h ago)   23d\r\n",
      "kubernetes-dashboard   kubernetes-dashboard-5fd5574d9f-vbtnd        1/1     Running   14 (23h ago)   23d\r\n"
     ]
    }
   ],
   "source": [
    "!kubectl get pods -A"
   ]
  },
  {
   "cell_type": "markdown",
   "id": "6ba3c0e6",
   "metadata": {},
   "source": [
    "The pods running the kubernetes dashboard and other cluster services appear in the kube-system and kubernetes-dashboard namespaces."
   ]
  },
  {
   "cell_type": "markdown",
   "id": "b7e23f63",
   "metadata": {},
   "source": [
    "### Creating a Kubernetes Namespace\n",
    "\n",
    "Now that we have a cluster and are connected to it, we'll create a namespace to hold the resources for our model deployment. The resource definition is in the kubernetes/namespace.yaml file. To apply the manifest to the cluster, execute this command:"
   ]
  },
  {
   "cell_type": "code",
   "execution_count": 37,
   "id": "1ae06ec0",
   "metadata": {},
   "outputs": [
    {
     "name": "stdout",
     "output_type": "stream",
     "text": [
      "namespace/model-services created\r\n",
      "resourcequota/model-services-resource-quota created\r\n"
     ]
    }
   ],
   "source": [
    "!kubectl create -f ../kubernetes/namespace.yaml"
   ]
  },
  {
   "cell_type": "markdown",
   "id": "75b61254",
   "metadata": {},
   "source": [
    "The namespace was created, alongside with a ResourceQuota which limits the amount of resources that can be taken by objects within the namespace.\n",
    "\n",
    "To take a look at the namespaces, execute this command:"
   ]
  },
  {
   "cell_type": "code",
   "execution_count": 38,
   "id": "34bb7f1c",
   "metadata": {},
   "outputs": [
    {
     "name": "stdout",
     "output_type": "stream",
     "text": [
      "NAME                   STATUS   AGE\r\n",
      "default                Active   43d\r\n",
      "kube-node-lease        Active   43d\r\n",
      "kube-public            Active   43d\r\n",
      "kube-system            Active   43d\r\n",
      "kubernetes-dashboard   Active   23d\r\n",
      "model-services         Active   3s\r\n"
     ]
    }
   ],
   "source": [
    "!kubectl get namespace"
   ]
  },
  {
   "cell_type": "markdown",
   "id": "3cb66acc",
   "metadata": {},
   "source": [
    "The new namespace appears in the listing along with other namespaces created by default by the system. To use the new namespace for the rest of the operations, execute this command:"
   ]
  },
  {
   "cell_type": "code",
   "execution_count": 39,
   "id": "32448624",
   "metadata": {},
   "outputs": [
    {
     "name": "stdout",
     "output_type": "stream",
     "text": [
      "Context \"minikube\" modified.\r\n"
     ]
    }
   ],
   "source": [
    "!kubectl config set-context --current --namespace=model-services"
   ]
  },
  {
   "cell_type": "markdown",
   "id": "a3224b69",
   "metadata": {},
   "source": [
    "### Creating a Kubernetes Deployment and Service\n",
    "\n",
    "The model service is deployed by using Kubernetes resources. These are:\n",
    "\n",
    "- Model Service ConfigMap: a set of configuration options, in this case it is a simple YAML file that will be loaded into the running container as a volume mount. This resource allows us to change the configuration of the model service without having to modify the Docker image. The configuration file will overwrite the configuration files that were included with the Docker image.\n",
    "- Deployment: a declarative way to manage a set of pods, the model service pods are managed through the Deployment. This deployment includes the model service as well as the OPA service running as a sidecar container.\n",
    "- Service: a way to expose a set of pods in a Deployment, the model services is made available to the outside world through the Service.\n",
    "\n",
    "The software architecture will look like this when it is running in the Kubernetes cluster:\n",
    "\n",
    "![Software Architecture](better_software_architecture_pfmlm.png)\n",
    "\n",
    "This way of deploying the OPA service is called the \"sidecar\" pattern because the service Pods will contain the main model service and the OPA service running right beside it in the same cluster node.\n",
    "\n",
    "The sidecar OPA container is added to the model service pod with this YAML:\n",
    "\n",
    "```yaml\n",
    "  ...\n",
    "  - name: opa\n",
    "    image: openpolicyagent/opa:0.43.0\n",
    "    ports:\n",
    "      - name: http\n",
    "        containerPort: 8181\n",
    "    imagePullPolicy: Never\n",
    "    resources:\n",
    "      requests:\n",
    "        cpu: \"100m\"\n",
    "        memory: \"250Mi\"\n",
    "      limits:\n",
    "        cpu: \"200m\"\n",
    "        memory: \"250Mi\"\n",
    "    args:\n",
    "      - \"run\"\n",
    "      - \"--ignore=.*\"\n",
    "      - \"--server\"\n",
    "      - \"/policies\"\n",
    "    volumeMounts:\n",
    "      - readOnly: true\n",
    "        mountPath: /policies\n",
    "        name: policies\n",
    "    livenessProbe:\n",
    "      httpGet:\n",
    "        scheme: HTTP\n",
    "        port: 8181\n",
    "      initialDelaySeconds: 5\n",
    "      periodSeconds: 5\n",
    "    readinessProbe:\n",
    "      httpGet:\n",
    "        path: /health?bundle=true\n",
    "        scheme: HTTP\n",
    "        port: 8181\n",
    "      initialDelaySeconds: 5\n",
    "      periodSeconds: 5\n",
    "  ...\n",
    "```\n",
    "This is not the complete YAML file, the Deployment is defined in the ./kubernetes/model_service.yaml file.\n",
    "\n",
    "You'll notice that the policy is not going to be loaded through the API. We'll be adding the policy as a volume mounted on the /policies folder within the OPA container. The contents of the volume are going to come from a ConfigMap that we'll create with this command:"
   ]
  },
  {
   "cell_type": "code",
   "execution_count": 40,
   "id": "7e48115a",
   "metadata": {},
   "outputs": [
    {
     "name": "stdout",
     "output_type": "stream",
     "text": [
      "configmap/policies created\r\n"
     ]
    }
   ],
   "source": [
    "!kubectl create configmap policies --from-file ../policies/insurance_charges_model.rego"
   ]
  },
  {
   "cell_type": "markdown",
   "id": "b76bf22a",
   "metadata": {},
   "source": [
    "The ConfigMap is managed separately from the OPA service running in the Pod. Let's view the ConfigMap to make sure it was created successfully."
   ]
  },
  {
   "cell_type": "code",
   "execution_count": 41,
   "id": "e9de4b2d",
   "metadata": {},
   "outputs": [
    {
     "name": "stdout",
     "output_type": "stream",
     "text": [
      "Name:         policies\r\n",
      "Namespace:    model-services\r\n",
      "Labels:       <none>\r\n",
      "Annotations:  <none>\r\n",
      "\r\n",
      "Data\r\n",
      "====\r\n",
      "insurance_charges_model.rego:\r\n",
      "----\r\n",
      "package insurance_charges_model\r\n",
      "\r\n",
      "import future.keywords.contains\r\n",
      "import future.keywords.if\r\n",
      "\r\n",
      "customer_is_a_smoker_over_60 if {\r\n",
      "  input.model_input.smoker\r\n",
      "    input.model_input.age > 60\r\n",
      "}\r\n",
      "\r\n",
      "allow := true if {\r\n",
      "  not customer_is_a_smoker_over_60\r\n",
      "} else := false {\r\n",
      "  customer_is_a_smoker_over_60\r\n",
      "}\r\n",
      "\r\n",
      "messages contains msg if {\r\n",
      "  customer_is_a_smoker_over_60\r\n",
      "    msg:= \"Prediction cannot be made if customer is a smoker over the age of 60.\"\r\n",
      "}\r\n",
      "\r\n",
      "\r\n",
      "BinaryData\r\n",
      "====\r\n",
      "\r\n",
      "Events:  <none>\r\n"
     ]
    }
   ],
   "source": [
    "!kubectl describe configmaps policies"
   ]
  },
  {
   "cell_type": "markdown",
   "id": "3317c3ba",
   "metadata": {},
   "source": [
    "The contents of the ConfigMap match the contents of the original insurance_charges_model.rego file.\n",
    "\n",
    "We're almost ready to start the model service, but before starting it we'll need to send the docker image from the local docker daemon to the minikube image cache:"
   ]
  },
  {
   "cell_type": "code",
   "execution_count": 42,
   "id": "feaa5ad2",
   "metadata": {},
   "outputs": [],
   "source": [
    "!minikube image load insurance_charges_model_service:0.1.0"
   ]
  },
  {
   "cell_type": "markdown",
   "id": "2c565bc3",
   "metadata": {},
   "source": [
    "We can view the images in the minikube cache with this command:"
   ]
  },
  {
   "cell_type": "code",
   "execution_count": 44,
   "id": "4dda11fe",
   "metadata": {},
   "outputs": [
    {
     "name": "stdout",
     "output_type": "stream",
     "text": [
      "docker.io/library/insurance_charges_model_service:0.1.0\r\n"
     ]
    }
   ],
   "source": [
    "!minikube image ls | grep insurance_charges_model_service"
   ]
  },
  {
   "cell_type": "markdown",
   "id": "5bd22c9b",
   "metadata": {},
   "source": [
    "The model service resources are created within the Kubernetes cluster with this command:"
   ]
  },
  {
   "cell_type": "code",
   "execution_count": 45,
   "id": "ca234504",
   "metadata": {},
   "outputs": [
    {
     "name": "stdout",
     "output_type": "stream",
     "text": [
      "configmap/model-service-configuration created\r\n",
      "deployment.apps/insurance-charges-model-deployment created\r\n",
      "service/insurance-charges-model-service created\r\n"
     ]
    }
   ],
   "source": [
    "!kubectl apply -f ../kubernetes/model_service.yaml"
   ]
  },
  {
   "cell_type": "markdown",
   "id": "b60bc809",
   "metadata": {},
   "source": [
    "Let's get the names of the pods that are running the service:"
   ]
  },
  {
   "cell_type": "code",
   "execution_count": 46,
   "id": "61a4c843",
   "metadata": {},
   "outputs": [
    {
     "name": "stdout",
     "output_type": "stream",
     "text": [
      "NAME                                                 READY   STATUS    RESTARTS   AGE\r\n",
      "insurance-charges-model-deployment-66ff696fd-zbzdv   2/2     Running   0          29s\r\n"
     ]
    }
   ],
   "source": [
    "!kubectl get pods"
   ]
  },
  {
   "cell_type": "markdown",
   "id": "0704c2c0",
   "metadata": {},
   "source": [
    "To make sure the service started up correctly, we'll check the logs of the model service:"
   ]
  },
  {
   "cell_type": "code",
   "execution_count": 47,
   "id": "d5b1d4c2",
   "metadata": {},
   "outputs": [
    {
     "name": "stdout",
     "output_type": "stream",
     "text": [
      "/usr/local/lib/python3.9/site-packages/tpot/builtins/__init__.py:36: UserWarning: Warning: optional dependency `torch` is not available. - skipping import of NN models.\r\n",
      "  warnings.warn(\"Warning: optional dependency `torch` is not available. - skipping import of NN models.\")\r\n",
      "INFO:     Started server process [1]\r\n",
      "INFO:     Waiting for application startup.\r\n",
      "INFO:     Application startup complete.\r\n",
      "INFO:     Uvicorn running on http://0.0.0.0:8000 (Press CTRL+C to quit)\r\n"
     ]
    }
   ],
   "source": [
    "!kubectl logs insurance-charges-model-deployment-66ff696fd-zbzdv -c insurance-charges-model"
   ]
  },
  {
   "cell_type": "markdown",
   "id": "8f9503e6",
   "metadata": {},
   "source": [
    "Looks like the server process started correctly in the Docker container. The UserWarning is generated when we instantiate the model object, which means everything is running as expected.\n",
    "\n",
    "We can also view the logs of the OPA service sidecar:"
   ]
  },
  {
   "cell_type": "code",
   "execution_count": 48,
   "id": "7abbaf16",
   "metadata": {},
   "outputs": [
    {
     "name": "stdout",
     "output_type": "stream",
     "text": [
      "{\"addrs\":[\":8181\"],\"diagnostic-addrs\":[],\"level\":\"info\",\"msg\":\"Initializing server.\",\"time\":\"2022-09-21T14:09:05Z\"}\r\n",
      "{\"level\":\"warning\",\"msg\":\"OPA running with uid or gid 0. Running OPA with root privileges is not recommended. Use the -rootless image to avoid running with root privileges. This will be made the default in later OPA releases.\",\"time\":\"2022-09-21T14:09:05Z\"}\r\n",
      "{\"client_addr\":\"172.17.0.1:48928\",\"level\":\"info\",\"msg\":\"Received request.\",\"req_id\":1,\"req_method\":\"GET\",\"req_path\":\"/\",\"time\":\"2022-09-21T14:09:13Z\"}\r\n",
      "{\"client_addr\":\"172.17.0.1:48928\",\"level\":\"info\",\"msg\":\"Sent response.\",\"req_id\":1,\"req_method\":\"GET\",\"req_path\":\"/\",\"resp_bytes\":1391,\"resp_duration\":2.031405,\"resp_status\":200,\"time\":\"2022-09-21T14:09:13Z\"}\r\n",
      "{\"client_addr\":\"172.17.0.1:48930\",\"level\":\"info\",\"msg\":\"Received request.\",\"req_id\":2,\"req_method\":\"GET\",\"req_path\":\"/health\",\"time\":\"2022-09-21T14:09:13Z\"}\r\n"
     ]
    }
   ],
   "source": [
    "!kubectl logs insurance-charges-model-deployment-66ff696fd-zbzdv -c opa | head -n 5"
   ]
  },
  {
   "cell_type": "markdown",
   "id": "13920456",
   "metadata": {},
   "source": [
    "The deployment and service for the model service were created together. You can see the new service with this command:"
   ]
  },
  {
   "cell_type": "code",
   "execution_count": 49,
   "id": "6ad0231c",
   "metadata": {},
   "outputs": [
    {
     "name": "stdout",
     "output_type": "stream",
     "text": [
      "NAME                              TYPE       CLUSTER-IP      EXTERNAL-IP   PORT(S)        AGE\r\n",
      "insurance-charges-model-service   NodePort   10.107.89.237   <none>        80:30468/TCP   59s\r\n"
     ]
    }
   ],
   "source": [
    "!kubectl get services"
   ]
  },
  {
   "cell_type": "markdown",
   "id": "1d6a7782",
   "metadata": {},
   "source": [
    "Minikube exposes the service on a local port, we can get a link to the endpoint with this command:\n",
    "\n",
    "```bash\n",
    "minikube service insurance-charges-model-service --url -n model-services\n",
    "```\n",
    "\n",
    "The command output this URL:\n",
    "\n",
    "```\n",
    "http://192.168.59.100:30468\n",
    "```\n",
    "\n",
    "The command must keep running to keep the tunnel open to the running model service in the minikube cluster.\n",
    "\n",
    "To make a prediction, we'll hit the service with a request:"
   ]
  },
  {
   "cell_type": "code",
   "execution_count": 50,
   "id": "1914ffb9",
   "metadata": {},
   "outputs": [
    {
     "name": "stdout",
     "output_type": "stream",
     "text": [
      "{\"messages\":[\"Prediction cannot be made if customer is a smoker over the age of 60.\"]}"
     ]
    }
   ],
   "source": [
    "!curl -X 'POST' \\\n",
    "  'http://192.168.59.100:30468/api/models/insurance_charges_model/prediction' \\\n",
    "  -H 'accept: application/json' \\\n",
    "  -H 'Content-Type: application/json' \\\n",
    "  -d \"{ \\\n",
    "        \\\"age\\\": 62, \\\n",
    "        \\\"sex\\\": \\\"male\\\", \\\n",
    "        \\\"bmi\\\": 22, \\\n",
    "        \\\"children\\\": 5, \\\n",
    "        \\\"smoker\\\": true, \\\n",
    "        \\\"region\\\": \\\"southwest\\\" \\\n",
    "    }\""
   ]
  },
  {
   "cell_type": "markdown",
   "id": "a4797b68",
   "metadata": {},
   "source": [
    "We have the model service up and running in the local minikube cluster!\n",
    "\n",
    "Looks like the policy was evaluated and the PredictionNotAvailable schema was returned. Let's try it with a request that we know will return a prediction:"
   ]
  },
  {
   "cell_type": "code",
   "execution_count": 51,
   "id": "604256bb",
   "metadata": {},
   "outputs": [
    {
     "name": "stdout",
     "output_type": "stream",
     "text": [
      "{\"charges\":9762.69}"
     ]
    }
   ],
   "source": [
    "!curl -X 'POST' \\\n",
    "  'http://192.168.59.100:30468/api/models/insurance_charges_model/prediction' \\\n",
    "  -H 'accept: application/json' \\\n",
    "  -H 'Content-Type: application/json' \\\n",
    "  -d \"{ \\\n",
    "        \\\"age\\\": 42, \\\n",
    "        \\\"sex\\\": \\\"male\\\", \\\n",
    "        \\\"bmi\\\": 22, \\\n",
    "        \\\"children\\\": 5, \\\n",
    "        \\\"smoker\\\": false, \\\n",
    "        \\\"region\\\": \\\"southwest\\\" \\\n",
    "    }\""
   ]
  },
  {
   "cell_type": "markdown",
   "id": "2d441468",
   "metadata": {},
   "source": [
    "The service is up and running with the OPA sidecar and the decorator is able to interact with the sidecar correctly to evaluate the policy we created."
   ]
  },
  {
   "cell_type": "markdown",
   "id": "0c67f1a4",
   "metadata": {},
   "source": [
    "### Deleting the Resources\n",
    "\n",
    "We're done working with the Kubernetes resources, so we will delete them and shut down the cluster.\n",
    "\n",
    "To delete the policies ConfigMap, execute this command:"
   ]
  },
  {
   "cell_type": "code",
   "execution_count": 52,
   "id": "ebe17f8f",
   "metadata": {},
   "outputs": [
    {
     "name": "stdout",
     "output_type": "stream",
     "text": [
      "configmap \"policies\" deleted\r\n"
     ]
    }
   ],
   "source": [
    "!kubectl delete configmap policies"
   ]
  },
  {
   "cell_type": "markdown",
   "id": "786892f0",
   "metadata": {},
   "source": [
    "To delete the model service pods, execute this command:"
   ]
  },
  {
   "cell_type": "code",
   "execution_count": 53,
   "id": "db96fa42",
   "metadata": {},
   "outputs": [
    {
     "name": "stdout",
     "output_type": "stream",
     "text": [
      "configmap \"model-service-configuration\" deleted\n",
      "deployment.apps \"insurance-charges-model-deployment\" deleted\n",
      "service \"insurance-charges-model-service\" deleted\n"
     ]
    }
   ],
   "source": [
    "!kubectl delete -f ../kubernetes/model_service.yaml"
   ]
  },
  {
   "cell_type": "markdown",
   "id": "ddf42235",
   "metadata": {},
   "source": [
    "To delete the model-services namespace, delete this command:"
   ]
  },
  {
   "cell_type": "code",
   "execution_count": 54,
   "id": "c441a3e5",
   "metadata": {},
   "outputs": [
    {
     "name": "stdout",
     "output_type": "stream",
     "text": [
      "namespace \"model-services\" deleted\n",
      "resourcequota \"model-services-resource-quota\" deleted\n"
     ]
    }
   ],
   "source": [
    "!kubectl delete -f ../kubernetes/namespace.yaml"
   ]
  },
  {
   "cell_type": "markdown",
   "id": "2d97f975",
   "metadata": {},
   "source": [
    "To shut down the Kubernetes cluster:"
   ]
  },
  {
   "cell_type": "code",
   "execution_count": 55,
   "id": "1ce1b0cb",
   "metadata": {},
   "outputs": [
    {
     "name": "stdout",
     "output_type": "stream",
     "text": [
      "✋  Stopping node \"minikube\"  ...\n",
      "🛑  1 node stopped.\n"
     ]
    }
   ],
   "source": [
    "!minikube stop"
   ]
  },
  {
   "cell_type": "markdown",
   "id": "d1d3041f",
   "metadata": {},
   "source": [
    "## Closing\n",
    "\n",
    "In this blog post we showed how to deploy a machine learning model with a decorator that applied policies to the model's prediction. We built the policy using the Rego language and executed it with the Open Policy Agent. By adding the policy as a decorator, we’re able to decouple the model’s prediction logic from the policy logic, this makes both components more reusable and easier to test. In fact, the policy decorator can easily be reused in other ML deployments, as long as we write a policy that matches our model’s needs. \n",
    "\n",
    "By writing the policy in an industry-standard language we’re enabling people that don’t have experience with ML or ML deployments to create complex policies that can be deployed alongside an ML model. The person that writes these policies is often a subject matter expert that understands the domain within which the model is working and the effect that the model’s operation will have on it. By using a policy-based approach to the problem of checking ML model predictions we’re able to simplify the deployment process as well, since a policy can be developed and deployed separately from the ML model deployment.\n",
    "\n",
    "Adding the OPA sidecar to the deployment increased the complexity of the software because we have to worry about deploying an extra container in the Kubernetes pod to run the policy. This approach also increased the latency for each prediction because it requires inter-process communication to execute the policy for each prediction that the model service makes. For both of these reasons, using Rego and the Open Policy Agent may not be the ideal choice for all model deployments. In some situations, it may be better to just write the policy in Python and deploy it as a decorator alongside the model, this will make the policy decision add less time to the total prediction time."
   ]
  }
 ],
 "metadata": {
  "kernelspec": {
   "display_name": "Python 3 (ipykernel)",
   "language": "python",
   "name": "python3"
  },
  "language_info": {
   "codemirror_mode": {
    "name": "ipython",
    "version": 3
   },
   "file_extension": ".py",
   "mimetype": "text/x-python",
   "name": "python",
   "nbconvert_exporter": "python",
   "pygments_lexer": "ipython3",
   "version": "3.9.10"
  }
 },
 "nbformat": 4,
 "nbformat_minor": 5
}
